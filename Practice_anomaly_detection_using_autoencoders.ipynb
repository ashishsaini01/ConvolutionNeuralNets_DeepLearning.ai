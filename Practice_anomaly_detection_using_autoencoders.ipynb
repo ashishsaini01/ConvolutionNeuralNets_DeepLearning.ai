{
  "nbformat": 4,
  "nbformat_minor": 0,
  "metadata": {
    "colab": {
      "name": "Practice_anomaly_detection_using_autoencoders.ipynb",
      "provenance": [],
      "authorship_tag": "ABX9TyMPuYUntKTpJwOBpGKiNY51",
      "include_colab_link": true
    },
    "kernelspec": {
      "name": "python3",
      "display_name": "Python 3"
    },
    "language_info": {
      "name": "python"
    }
  },
  "cells": [
    {
      "cell_type": "markdown",
      "metadata": {
        "id": "view-in-github",
        "colab_type": "text"
      },
      "source": [
        "<a href=\"https://colab.research.google.com/github/ashishsaini01/ConvolutionNeuralNets_DeepLearning.ai/blob/master/Practice_anomaly_detection_using_autoencoders.ipynb\" target=\"_parent\"><img src=\"https://colab.research.google.com/assets/colab-badge.svg\" alt=\"Open In Colab\"/></a>"
      ]
    },
    {
      "cell_type": "code",
      "execution_count": 1,
      "metadata": {
        "id": "efW_NdaQG8er"
      },
      "outputs": [],
      "source": [
        "# Anomaly detection using Autoencoders"
      ]
    },
    {
      "cell_type": "code",
      "source": [
        "# import libraries\n",
        "import numpy as np\n",
        "import pandas as pd\n",
        "import tensorflow as tf\n",
        "from matplotlib import pyplot as plt\n",
        "from sklearn.preprocessing import MinMaxScaler\n",
        "from sklearn.metrics import accuracy_score\n",
        "from sklearn.model_selection import train_test_split"
      ],
      "metadata": {
        "id": "2eJqr6a2HEVq"
      },
      "execution_count": 36,
      "outputs": []
    },
    {
      "cell_type": "code",
      "source": [
        "# Dowmload and load ECG dataset (labels 0 and 1, 0 denotes the row is an anomly and 1 for the observations which are normal)\n",
        "\n",
        "path_to_data = \"http://storage.googleapis.com/download.tensorflow.org/data/ecg.csv\"\n",
        "data_df = pd.read_csv(path_to_data, header = None)\n",
        "\n",
        "data_df.head()"
      ],
      "metadata": {
        "colab": {
          "base_uri": "https://localhost:8080/",
          "height": 300
        },
        "id": "6U06XeEfHUJN",
        "outputId": "5fdd3770-40c7-479c-c828-ab3800865f3d"
      },
      "execution_count": 11,
      "outputs": [
        {
          "output_type": "execute_result",
          "data": {
            "text/plain": [
              "        0         1         2         3         4         5         6    \\\n",
              "0 -0.112522 -2.827204 -3.773897 -4.349751 -4.376041 -3.474986 -2.181408   \n",
              "1 -1.100878 -3.996840 -4.285843 -4.506579 -4.022377 -3.234368 -1.566126   \n",
              "2 -0.567088 -2.593450 -3.874230 -4.584095 -4.187449 -3.151462 -1.742940   \n",
              "3  0.490473 -1.914407 -3.616364 -4.318823 -4.268016 -3.881110 -2.993280   \n",
              "4  0.800232 -0.874252 -2.384761 -3.973292 -4.338224 -3.802422 -2.534510   \n",
              "\n",
              "        7         8         9    ...       131       132       133       134  \\\n",
              "0 -1.818286 -1.250522 -0.477492  ...  0.792168  0.933541  0.796958  0.578621   \n",
              "1 -0.992258 -0.754680  0.042321  ...  0.538356  0.656881  0.787490  0.724046   \n",
              "2 -1.490659 -1.183580 -0.394229  ...  0.886073  0.531452  0.311377 -0.021919   \n",
              "3 -1.671131 -1.333884 -0.965629  ...  0.350816  0.499111  0.600345  0.842069   \n",
              "4 -1.783423 -1.594450 -0.753199  ...  1.148884  0.958434  1.059025  1.371682   \n",
              "\n",
              "        135       136       137       138       139  140  \n",
              "0  0.257740  0.228077  0.123431  0.925286  0.193137  1.0  \n",
              "1  0.555784  0.476333  0.773820  1.119621 -1.436250  1.0  \n",
              "2 -0.713683 -0.532197  0.321097  0.904227 -0.421797  1.0  \n",
              "3  0.952074  0.990133  1.086798  1.403011 -0.383564  1.0  \n",
              "4  1.277392  0.960304  0.971020  1.614392  1.421456  1.0  \n",
              "\n",
              "[5 rows x 141 columns]"
            ],
            "text/html": [
              "\n",
              "  <div id=\"df-15f84365-83e6-4f7e-8aa9-a8843835a319\">\n",
              "    <div class=\"colab-df-container\">\n",
              "      <div>\n",
              "<style scoped>\n",
              "    .dataframe tbody tr th:only-of-type {\n",
              "        vertical-align: middle;\n",
              "    }\n",
              "\n",
              "    .dataframe tbody tr th {\n",
              "        vertical-align: top;\n",
              "    }\n",
              "\n",
              "    .dataframe thead th {\n",
              "        text-align: right;\n",
              "    }\n",
              "</style>\n",
              "<table border=\"1\" class=\"dataframe\">\n",
              "  <thead>\n",
              "    <tr style=\"text-align: right;\">\n",
              "      <th></th>\n",
              "      <th>0</th>\n",
              "      <th>1</th>\n",
              "      <th>2</th>\n",
              "      <th>3</th>\n",
              "      <th>4</th>\n",
              "      <th>5</th>\n",
              "      <th>6</th>\n",
              "      <th>7</th>\n",
              "      <th>8</th>\n",
              "      <th>9</th>\n",
              "      <th>...</th>\n",
              "      <th>131</th>\n",
              "      <th>132</th>\n",
              "      <th>133</th>\n",
              "      <th>134</th>\n",
              "      <th>135</th>\n",
              "      <th>136</th>\n",
              "      <th>137</th>\n",
              "      <th>138</th>\n",
              "      <th>139</th>\n",
              "      <th>140</th>\n",
              "    </tr>\n",
              "  </thead>\n",
              "  <tbody>\n",
              "    <tr>\n",
              "      <th>0</th>\n",
              "      <td>-0.112522</td>\n",
              "      <td>-2.827204</td>\n",
              "      <td>-3.773897</td>\n",
              "      <td>-4.349751</td>\n",
              "      <td>-4.376041</td>\n",
              "      <td>-3.474986</td>\n",
              "      <td>-2.181408</td>\n",
              "      <td>-1.818286</td>\n",
              "      <td>-1.250522</td>\n",
              "      <td>-0.477492</td>\n",
              "      <td>...</td>\n",
              "      <td>0.792168</td>\n",
              "      <td>0.933541</td>\n",
              "      <td>0.796958</td>\n",
              "      <td>0.578621</td>\n",
              "      <td>0.257740</td>\n",
              "      <td>0.228077</td>\n",
              "      <td>0.123431</td>\n",
              "      <td>0.925286</td>\n",
              "      <td>0.193137</td>\n",
              "      <td>1.0</td>\n",
              "    </tr>\n",
              "    <tr>\n",
              "      <th>1</th>\n",
              "      <td>-1.100878</td>\n",
              "      <td>-3.996840</td>\n",
              "      <td>-4.285843</td>\n",
              "      <td>-4.506579</td>\n",
              "      <td>-4.022377</td>\n",
              "      <td>-3.234368</td>\n",
              "      <td>-1.566126</td>\n",
              "      <td>-0.992258</td>\n",
              "      <td>-0.754680</td>\n",
              "      <td>0.042321</td>\n",
              "      <td>...</td>\n",
              "      <td>0.538356</td>\n",
              "      <td>0.656881</td>\n",
              "      <td>0.787490</td>\n",
              "      <td>0.724046</td>\n",
              "      <td>0.555784</td>\n",
              "      <td>0.476333</td>\n",
              "      <td>0.773820</td>\n",
              "      <td>1.119621</td>\n",
              "      <td>-1.436250</td>\n",
              "      <td>1.0</td>\n",
              "    </tr>\n",
              "    <tr>\n",
              "      <th>2</th>\n",
              "      <td>-0.567088</td>\n",
              "      <td>-2.593450</td>\n",
              "      <td>-3.874230</td>\n",
              "      <td>-4.584095</td>\n",
              "      <td>-4.187449</td>\n",
              "      <td>-3.151462</td>\n",
              "      <td>-1.742940</td>\n",
              "      <td>-1.490659</td>\n",
              "      <td>-1.183580</td>\n",
              "      <td>-0.394229</td>\n",
              "      <td>...</td>\n",
              "      <td>0.886073</td>\n",
              "      <td>0.531452</td>\n",
              "      <td>0.311377</td>\n",
              "      <td>-0.021919</td>\n",
              "      <td>-0.713683</td>\n",
              "      <td>-0.532197</td>\n",
              "      <td>0.321097</td>\n",
              "      <td>0.904227</td>\n",
              "      <td>-0.421797</td>\n",
              "      <td>1.0</td>\n",
              "    </tr>\n",
              "    <tr>\n",
              "      <th>3</th>\n",
              "      <td>0.490473</td>\n",
              "      <td>-1.914407</td>\n",
              "      <td>-3.616364</td>\n",
              "      <td>-4.318823</td>\n",
              "      <td>-4.268016</td>\n",
              "      <td>-3.881110</td>\n",
              "      <td>-2.993280</td>\n",
              "      <td>-1.671131</td>\n",
              "      <td>-1.333884</td>\n",
              "      <td>-0.965629</td>\n",
              "      <td>...</td>\n",
              "      <td>0.350816</td>\n",
              "      <td>0.499111</td>\n",
              "      <td>0.600345</td>\n",
              "      <td>0.842069</td>\n",
              "      <td>0.952074</td>\n",
              "      <td>0.990133</td>\n",
              "      <td>1.086798</td>\n",
              "      <td>1.403011</td>\n",
              "      <td>-0.383564</td>\n",
              "      <td>1.0</td>\n",
              "    </tr>\n",
              "    <tr>\n",
              "      <th>4</th>\n",
              "      <td>0.800232</td>\n",
              "      <td>-0.874252</td>\n",
              "      <td>-2.384761</td>\n",
              "      <td>-3.973292</td>\n",
              "      <td>-4.338224</td>\n",
              "      <td>-3.802422</td>\n",
              "      <td>-2.534510</td>\n",
              "      <td>-1.783423</td>\n",
              "      <td>-1.594450</td>\n",
              "      <td>-0.753199</td>\n",
              "      <td>...</td>\n",
              "      <td>1.148884</td>\n",
              "      <td>0.958434</td>\n",
              "      <td>1.059025</td>\n",
              "      <td>1.371682</td>\n",
              "      <td>1.277392</td>\n",
              "      <td>0.960304</td>\n",
              "      <td>0.971020</td>\n",
              "      <td>1.614392</td>\n",
              "      <td>1.421456</td>\n",
              "      <td>1.0</td>\n",
              "    </tr>\n",
              "  </tbody>\n",
              "</table>\n",
              "<p>5 rows × 141 columns</p>\n",
              "</div>\n",
              "      <button class=\"colab-df-convert\" onclick=\"convertToInteractive('df-15f84365-83e6-4f7e-8aa9-a8843835a319')\"\n",
              "              title=\"Convert this dataframe to an interactive table.\"\n",
              "              style=\"display:none;\">\n",
              "        \n",
              "  <svg xmlns=\"http://www.w3.org/2000/svg\" height=\"24px\"viewBox=\"0 0 24 24\"\n",
              "       width=\"24px\">\n",
              "    <path d=\"M0 0h24v24H0V0z\" fill=\"none\"/>\n",
              "    <path d=\"M18.56 5.44l.94 2.06.94-2.06 2.06-.94-2.06-.94-.94-2.06-.94 2.06-2.06.94zm-11 1L8.5 8.5l.94-2.06 2.06-.94-2.06-.94L8.5 2.5l-.94 2.06-2.06.94zm10 10l.94 2.06.94-2.06 2.06-.94-2.06-.94-.94-2.06-.94 2.06-2.06.94z\"/><path d=\"M17.41 7.96l-1.37-1.37c-.4-.4-.92-.59-1.43-.59-.52 0-1.04.2-1.43.59L10.3 9.45l-7.72 7.72c-.78.78-.78 2.05 0 2.83L4 21.41c.39.39.9.59 1.41.59.51 0 1.02-.2 1.41-.59l7.78-7.78 2.81-2.81c.8-.78.8-2.07 0-2.86zM5.41 20L4 18.59l7.72-7.72 1.47 1.35L5.41 20z\"/>\n",
              "  </svg>\n",
              "      </button>\n",
              "      \n",
              "  <style>\n",
              "    .colab-df-container {\n",
              "      display:flex;\n",
              "      flex-wrap:wrap;\n",
              "      gap: 12px;\n",
              "    }\n",
              "\n",
              "    .colab-df-convert {\n",
              "      background-color: #E8F0FE;\n",
              "      border: none;\n",
              "      border-radius: 50%;\n",
              "      cursor: pointer;\n",
              "      display: none;\n",
              "      fill: #1967D2;\n",
              "      height: 32px;\n",
              "      padding: 0 0 0 0;\n",
              "      width: 32px;\n",
              "    }\n",
              "\n",
              "    .colab-df-convert:hover {\n",
              "      background-color: #E2EBFA;\n",
              "      box-shadow: 0px 1px 2px rgba(60, 64, 67, 0.3), 0px 1px 3px 1px rgba(60, 64, 67, 0.15);\n",
              "      fill: #174EA6;\n",
              "    }\n",
              "\n",
              "    [theme=dark] .colab-df-convert {\n",
              "      background-color: #3B4455;\n",
              "      fill: #D2E3FC;\n",
              "    }\n",
              "\n",
              "    [theme=dark] .colab-df-convert:hover {\n",
              "      background-color: #434B5C;\n",
              "      box-shadow: 0px 1px 3px 1px rgba(0, 0, 0, 0.15);\n",
              "      filter: drop-shadow(0px 1px 2px rgba(0, 0, 0, 0.3));\n",
              "      fill: #FFFFFF;\n",
              "    }\n",
              "  </style>\n",
              "\n",
              "      <script>\n",
              "        const buttonEl =\n",
              "          document.querySelector('#df-15f84365-83e6-4f7e-8aa9-a8843835a319 button.colab-df-convert');\n",
              "        buttonEl.style.display =\n",
              "          google.colab.kernel.accessAllowed ? 'block' : 'none';\n",
              "\n",
              "        async function convertToInteractive(key) {\n",
              "          const element = document.querySelector('#df-15f84365-83e6-4f7e-8aa9-a8843835a319');\n",
              "          const dataTable =\n",
              "            await google.colab.kernel.invokeFunction('convertToInteractive',\n",
              "                                                     [key], {});\n",
              "          if (!dataTable) return;\n",
              "\n",
              "          const docLinkHtml = 'Like what you see? Visit the ' +\n",
              "            '<a target=\"_blank\" href=https://colab.research.google.com/notebooks/data_table.ipynb>data table notebook</a>'\n",
              "            + ' to learn more about interactive tables.';\n",
              "          element.innerHTML = '';\n",
              "          dataTable['output_type'] = 'display_data';\n",
              "          await google.colab.output.renderOutput(dataTable, element);\n",
              "          const docLink = document.createElement('div');\n",
              "          docLink.innerHTML = docLinkHtml;\n",
              "          element.appendChild(docLink);\n",
              "        }\n",
              "      </script>\n",
              "    </div>\n",
              "  </div>\n",
              "  "
            ]
          },
          "metadata": {},
          "execution_count": 11
        }
      ]
    },
    {
      "cell_type": "code",
      "source": [
        "assert data_df.shape == (4998, 141) # dataset shape is not correct"
      ],
      "metadata": {
        "id": "F7IX6QT7IfIv"
      },
      "execution_count": 12,
      "outputs": []
    },
    {
      "cell_type": "code",
      "source": [
        "# seprating features and target(last column is the target)\n",
        "features = data_df.drop(140, axis = 1)\n",
        "target = data_df[140]\n",
        "\n",
        "# splitting data into train and test set\n",
        "x_train, x_test, y_train, y_test = train_test_split(features, target, test_size = 0.2, stratify = target)\n",
        "\n",
        "# Normalizing the data using MinMaxScaler\n",
        "train_index = y_train[y_train == 1].index\n",
        "train_data = x_train.loc[train_index]\n",
        "\n",
        "min_max_scaler = MinMaxScaler(feature_range = (0, 1))\n",
        "x_train_scaled = min_max_scaler.fit_transform(train_data.copy())\n",
        "x_test_scaled = min_max_scaler.transform(x_test.copy())"
      ],
      "metadata": {
        "id": "xblhZiiEIF28"
      },
      "execution_count": 51,
      "outputs": []
    },
    {
      "cell_type": "code",
      "source": [
        "# test cases\n",
        "assert features.shape == (4998, 140) # some features are missing\n",
        "assert target.shape == (4998,) # target must be 1D\n",
        "assert (np.unique(target) == np.array([0., 1.])).all() # Target must conatins only 2 classes\n",
        "assert not x_train.shape == x_test.shape # must be not equal\n",
        "assert not x_train.values == x_train_scaled # data not scaled\n",
        "assert not x_train_scaled.shape == x_test_scaled.shape # must be not equal"
      ],
      "metadata": {
        "colab": {
          "base_uri": "https://localhost:8080/"
        },
        "id": "ZP18uwDCK_cD",
        "outputId": "c7d04953-c9f7-4632-f659-d918ebe61f2c"
      },
      "execution_count": 54,
      "outputs": [
        {
          "output_type": "stream",
          "name": "stderr",
          "text": [
            "/usr/local/lib/python3.7/dist-packages/ipykernel_launcher.py:6: DeprecationWarning: elementwise comparison failed; this will raise an error in the future.\n",
            "  \n"
          ]
        }
      ]
    },
    {
      "cell_type": "code",
      "source": [
        "from tensorflow.keras import Model"
      ],
      "metadata": {
        "id": "TwKTB_4-X7u3"
      },
      "execution_count": 60,
      "outputs": []
    },
    {
      "cell_type": "code",
      "source": [
        "# create a model by subclassing Model class in tensorflow\n",
        "class AutoEncoder(Model):\n",
        "  \"\"\"\n",
        "  Paramerters\n",
        "\n",
        "  output_units: int\n",
        "    Number of output units\n",
        "  \n",
        "  code_size: int\n",
        "    Number of units in bottle neck\n",
        "  \"\"\"\n",
        "  def __init__(self, output_units, code_size = 8):\n",
        "      super().__init__()\n",
        "      self.encoder = tf.keras.models.Sequential([\n",
        "        tf.keras.layers.Dense(64, activation = 'relu'),\n",
        "        tf.keras.layers.Dropout(0.1),\n",
        "        tf.keras.layers.Dense(32, activation = 'relu'),\n",
        "        tf.keras.layers.Dropout(0.1),\n",
        "        tf.keras.layers.Dense(16, activation = 'relu'),\n",
        "        tf.keras.layers.Dropout(0.1),\n",
        "        tf.keras.layers.Dense(output_units, activation = 'relu')                                         \n",
        "      ])\n",
        "      self.decoder = tf.keras.models.Sequential([\n",
        "        tf.keras.layers.Dense(16, activation = 'relu'),\n",
        "        tf.keras.layers.Dropout(0.1),\n",
        "        tf.keras.layers.Dense(32, activation = 'relu'),\n",
        "        tf.keras.layers.Dropout(0.1),\n",
        "        tf.keras.layers.Dense(64, activation = 'relu'),\n",
        "        tf.keras.layers.Dropout(0.1),\n",
        "        tf.keras.layers.Dense(output_units, activation = 'sigmoid')                                           \n",
        "      ])\n",
        "\n",
        "  def call(self, inputs):\n",
        "    encoded = self.encoder(inputs)\n",
        "    decoded = self.decoder(encoded)\n",
        "    return decoded\n",
        "\n",
        "model = AutoEncoder(output_units = x_train_scaled.shape[1])\n",
        "# configurations of model\n",
        "# model.compile(loss='msle', metrics=['mse'], optimizer='adam')\n",
        "model.compile(optimizer = tf.keras.optimizers.Adam(),\n",
        "              loss = 'msle',\n",
        "              metrics = [tf.keras.metrics.MeanSquaredLogarithmicError()])\n",
        "\n",
        "history = model.fit(\n",
        "    x_train_scaled,\n",
        "    x_train_scaled,\n",
        "    epochs = 20,\n",
        "    batch_size = 512,\n",
        "    validation_data = (x_test_scaled, x_test_scaled)\n",
        ")"
      ],
      "metadata": {
        "colab": {
          "base_uri": "https://localhost:8080/"
        },
        "id": "lI2L6NR1KSI0",
        "outputId": "8633b166-14a1-4ae0-9321-719d274bbd1b"
      },
      "execution_count": 79,
      "outputs": [
        {
          "output_type": "stream",
          "name": "stdout",
          "text": [
            "Epoch 1/20\n",
            "5/5 [==============================] - 2s 94ms/step - loss: 0.0113 - mean_squared_logarithmic_error: 0.0113 - val_loss: 0.0139 - val_mean_squared_logarithmic_error: 0.0139\n",
            "Epoch 2/20\n",
            "5/5 [==============================] - 0s 30ms/step - loss: 0.0111 - mean_squared_logarithmic_error: 0.0111 - val_loss: 0.0137 - val_mean_squared_logarithmic_error: 0.0137\n",
            "Epoch 3/20\n",
            "5/5 [==============================] - 0s 42ms/step - loss: 0.0106 - mean_squared_logarithmic_error: 0.0106 - val_loss: 0.0134 - val_mean_squared_logarithmic_error: 0.0134\n",
            "Epoch 4/20\n",
            "5/5 [==============================] - 0s 54ms/step - loss: 0.0098 - mean_squared_logarithmic_error: 0.0098 - val_loss: 0.0131 - val_mean_squared_logarithmic_error: 0.0131\n",
            "Epoch 5/20\n",
            "5/5 [==============================] - 0s 47ms/step - loss: 0.0087 - mean_squared_logarithmic_error: 0.0087 - val_loss: 0.0130 - val_mean_squared_logarithmic_error: 0.0130\n",
            "Epoch 6/20\n",
            "5/5 [==============================] - 0s 18ms/step - loss: 0.0077 - mean_squared_logarithmic_error: 0.0077 - val_loss: 0.0122 - val_mean_squared_logarithmic_error: 0.0122\n",
            "Epoch 7/20\n",
            "5/5 [==============================] - 0s 15ms/step - loss: 0.0068 - mean_squared_logarithmic_error: 0.0068 - val_loss: 0.0120 - val_mean_squared_logarithmic_error: 0.0120\n",
            "Epoch 8/20\n",
            "5/5 [==============================] - 0s 16ms/step - loss: 0.0061 - mean_squared_logarithmic_error: 0.0061 - val_loss: 0.0115 - val_mean_squared_logarithmic_error: 0.0115\n",
            "Epoch 9/20\n",
            "5/5 [==============================] - 0s 15ms/step - loss: 0.0057 - mean_squared_logarithmic_error: 0.0057 - val_loss: 0.0111 - val_mean_squared_logarithmic_error: 0.0111\n",
            "Epoch 10/20\n",
            "5/5 [==============================] - 0s 16ms/step - loss: 0.0054 - mean_squared_logarithmic_error: 0.0054 - val_loss: 0.0108 - val_mean_squared_logarithmic_error: 0.0108\n",
            "Epoch 11/20\n",
            "5/5 [==============================] - 0s 23ms/step - loss: 0.0052 - mean_squared_logarithmic_error: 0.0052 - val_loss: 0.0106 - val_mean_squared_logarithmic_error: 0.0106\n",
            "Epoch 12/20\n",
            "5/5 [==============================] - 0s 16ms/step - loss: 0.0050 - mean_squared_logarithmic_error: 0.0050 - val_loss: 0.0104 - val_mean_squared_logarithmic_error: 0.0104\n",
            "Epoch 13/20\n",
            "5/5 [==============================] - 0s 15ms/step - loss: 0.0049 - mean_squared_logarithmic_error: 0.0049 - val_loss: 0.0102 - val_mean_squared_logarithmic_error: 0.0102\n",
            "Epoch 14/20\n",
            "5/5 [==============================] - 0s 17ms/step - loss: 0.0049 - mean_squared_logarithmic_error: 0.0049 - val_loss: 0.0101 - val_mean_squared_logarithmic_error: 0.0101\n",
            "Epoch 15/20\n",
            "5/5 [==============================] - 0s 16ms/step - loss: 0.0048 - mean_squared_logarithmic_error: 0.0048 - val_loss: 0.0101 - val_mean_squared_logarithmic_error: 0.0101\n",
            "Epoch 16/20\n",
            "5/5 [==============================] - 0s 17ms/step - loss: 0.0047 - mean_squared_logarithmic_error: 0.0047 - val_loss: 0.0100 - val_mean_squared_logarithmic_error: 0.0100\n",
            "Epoch 17/20\n",
            "5/5 [==============================] - 0s 16ms/step - loss: 0.0047 - mean_squared_logarithmic_error: 0.0047 - val_loss: 0.0100 - val_mean_squared_logarithmic_error: 0.0100\n",
            "Epoch 18/20\n",
            "5/5 [==============================] - 0s 17ms/step - loss: 0.0047 - mean_squared_logarithmic_error: 0.0047 - val_loss: 0.0099 - val_mean_squared_logarithmic_error: 0.0099\n",
            "Epoch 19/20\n",
            "5/5 [==============================] - 0s 16ms/step - loss: 0.0047 - mean_squared_logarithmic_error: 0.0047 - val_loss: 0.0099 - val_mean_squared_logarithmic_error: 0.0099\n",
            "Epoch 20/20\n",
            "5/5 [==============================] - 0s 15ms/step - loss: 0.0046 - mean_squared_logarithmic_error: 0.0046 - val_loss: 0.0099 - val_mean_squared_logarithmic_error: 0.0099\n"
          ]
        }
      ]
    },
    {
      "cell_type": "code",
      "source": [
        "plt.plot(history.history['loss'])\n",
        "plt.plot(history.history['val_loss'])\n",
        "plt.xlabel('Epochs')\n",
        "plt.ylabel('mean_squared_log_loss')\n",
        "plt.legend(['loss', 'val_loss'])\n",
        "plt.show()"
      ],
      "metadata": {
        "colab": {
          "base_uri": "https://localhost:8080/",
          "height": 279
        },
        "id": "Tv9v6dYxXWmO",
        "outputId": "37977da9-c178-42ab-ca9d-67e2e02d6d17"
      },
      "execution_count": 80,
      "outputs": [
        {
          "output_type": "display_data",
          "data": {
            "text/plain": [
              "<Figure size 432x288 with 1 Axes>"
            ],
            "image/png": "[encoded data removed]"
          },
          "metadata": {
            "needs_background": "light"
          }
        }
      ]
    },
    {
      "cell_type": "code",
      "source": [
        "def find_threshold(model, x_train_scaled):\n",
        "  reconstruction = model.predict(x_train_scaled)\n",
        "\n",
        "  # provides loss of individual instance\n",
        "  reconstruction_error = tf.keras.losses.msle(reconstruction, x_train_scaled)\n",
        "\n",
        "  # threshold for anomaly scores\n",
        "  threshold = np.mean(reconstruction_error.numpy()) \\\n",
        "                  + np.std(reconstruction_error.numpy())\n",
        "  return threshold\n",
        "\n",
        "def get_predictions(model, x_test_scaled, threshold):\n",
        "  predictions = model.predict(x_test_scaled)\n",
        "\n",
        "  # provides loss of individual instances\n",
        "  prediction_erros = tf.keras.losses.msle(predictions, x_test_scaled)\n",
        "\n",
        "  anomaly_mask = pd.Series(prediction_erros) > threshold\n",
        "\n",
        "  preds = anomaly_mask.astype(int)\n",
        "\n",
        "  return preds\n"
      ],
      "metadata": {
        "id": "8v--9jmzpX8M"
      },
      "execution_count": 82,
      "outputs": []
    },
    {
      "cell_type": "code",
      "source": [
        "threshold = find_threshold(model, x_train_scaled)\n",
        "print(threshold)\n",
        "predictions = get_predictions(model, x_test_scaled, threshold)\n",
        "accuracy_score(predictions, y_test)"
      ],
      "metadata": {
        "colab": {
          "base_uri": "https://localhost:8080/"
        },
        "id": "NvrIpWxMrV41",
        "outputId": "bb7cc127-1e91-4b5a-b9ba-6ed81a6623b3"
      },
      "execution_count": 85,
      "outputs": [
        {
          "output_type": "stream",
          "name": "stdout",
          "text": [
            "0.009963506083633056\n"
          ]
        },
        {
          "output_type": "execute_result",
          "data": {
            "text/plain": [
              "0.067"
            ]
          },
          "metadata": {},
          "execution_count": 85
        }
      ]
    },
    {
      "cell_type": "markdown",
      "source": [
        "#### Reference\n",
        "##### https://www.analyticsvidhya.com/blog/2021/05/anomaly-detection-using-autoencoders-a-walk-through-in-python/"
      ],
      "metadata": {
        "id": "dwy0N9Q0sM3j"
      }
    }
  ]
}