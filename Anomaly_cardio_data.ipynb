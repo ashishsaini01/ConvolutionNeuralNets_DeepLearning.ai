{
  "nbformat": 4,
  "nbformat_minor": 0,
  "metadata": {
    "colab": {
      "name": "Anomaly_cardio_data.ipynb",
      "provenance": [],
      "authorship_tag": "ABX9TyNcwO+cIJK0OX47Lm8QWXGR",
      "include_colab_link": true
    },
    "kernelspec": {
      "name": "python3",
      "display_name": "Python 3"
    },
    "language_info": {
      "name": "python"
    }
  },
  "cells": [
    {
      "cell_type": "markdown",
      "metadata": {
        "id": "view-in-github",
        "colab_type": "text"
      },
      "source": [
        "<a href=\"https://colab.research.google.com/github/ashishsaini01/ConvolutionNeuralNets_DeepLearning.ai/blob/master/Anomaly_cardio_data.ipynb\" target=\"_parent\"><img src=\"https://colab.research.google.com/assets/colab-badge.svg\" alt=\"Open In Colab\"/></a>"
      ]
    },
    {
      "cell_type": "code",
      "execution_count": null,
      "metadata": {
        "id": "BJWag9G-qQmy"
      },
      "outputs": [],
      "source": [
        "/content/cardio.npz"
      ]
    },
    {
      "cell_type": "code",
      "source": [
        "import pandas as pd\n",
        "import numpy as np\n",
        "import tensorflow as tf\n",
        "from matplotlib import pyplot as plt \n",
        "from sklearn.preprocessing import MinMaxScaler\n",
        "from tensorflow.keras import Model\n"
      ],
      "metadata": {
        "id": "kEJ0ATECqqNY"
      },
      "execution_count": 38,
      "outputs": []
    },
    {
      "cell_type": "code",
      "source": [
        "data = np.load('/content/cardio.npz')"
      ],
      "metadata": {
        "id": "bv22OeHevLRP"
      },
      "execution_count": 3,
      "outputs": []
    },
    {
      "cell_type": "code",
      "source": [
        "x, tx, ty = data['x'], data['tx'], data['ty']\n",
        "print(data['x'].shape, '\\n', data['tx'].shape ,'\\n', data['ty'].shape)"
      ],
      "metadata": {
        "colab": {
          "base_uri": "https://localhost:8080/"
        },
        "id": "n-T4FWqnvTyj",
        "outputId": "e1c0a4e0-759c-4b3a-9d20-e0142598570c"
      },
      "execution_count": 29,
      "outputs": [
        {
          "output_type": "stream",
          "name": "stdout",
          "text": [
            "(1479, 21) \n",
            " (352, 21) \n",
            " (352,)\n"
          ]
        }
      ]
    },
    {
      "cell_type": "code",
      "source": [
        "np.unique(ty, return_counts = True)"
      ],
      "metadata": {
        "colab": {
          "base_uri": "https://localhost:8080/"
        },
        "id": "rL20baEPwIX-",
        "outputId": "a0992b7c-efa5-47d5-9bf7-1a4bf47efc74"
      },
      "execution_count": 31,
      "outputs": [
        {
          "output_type": "execute_result",
          "data": {
            "text/plain": [
              "(array([0, 1]), array([176, 176]))"
            ]
          },
          "metadata": {},
          "execution_count": 31
        }
      ]
    },
    {
      "cell_type": "code",
      "source": [
        "# normalizing the data using MinMaxScaler\n",
        "min_max_scaler = MinMaxScaler(feature_range = (0, 1))\n",
        "x_scaled = min_max_scaler.fit_transform(x)\n",
        "tx_scaled = min_max_scaler.transform(tx)"
      ],
      "metadata": {
        "id": "zujHZs2bwXV-"
      },
      "execution_count": 36,
      "outputs": []
    },
    {
      "cell_type": "code",
      "source": [
        "class AutoEncoder(Model):\n",
        "  \"\"\"\n",
        "  Parameters\n",
        "\n",
        "  output_units: int\n",
        "    Number of output units\n",
        "  \"\"\"\n",
        "  def __init__(self, output_units):\n",
        "      super().__init__()\n",
        "      self.encoder = tf.keras.models.Sequential([\n",
        "        # tf.keras.layers.Dense(32, activation = 'relu'),\n",
        "        # tf.keras.layers.Dropout(0.1),\n",
        "        tf.keras.layers.Dense(16, activation = 'relu'),\n",
        "        tf.keras.layers.Dropout(0.1),\n",
        "        tf.keras.layers.Dense(output_units, activation = 'relu')\n",
        "      ])\n",
        "      self.decoder = tf.keras.models.Sequential([\n",
        "        tf.keras.layers.Dense(16, activation = 'relu'),\n",
        "        tf.keras.layers.Dropout(0.1),\n",
        "        # tf.keras.layers.Dense(32, activation = 'relu'),\n",
        "        # tf.keras.layers.Dropout(0.1),\n",
        "        tf.keras.layers.Dense(output_units, activation = 'sigmoid')\n",
        "      ])\n",
        "\n",
        "  def call(self, inputs):\n",
        "    encoded = self.encoder(inputs)\n",
        "    decoded = self.decoder(encoded)\n",
        "    return decoded\n",
        "\n",
        "model = AutoEncoder(output_units = x_scaled.shape[1])\n",
        "\n",
        "model.compile(optimizer = tf.keras.optimizers.RMSprop(lr = 0.1),\n",
        "              loss = tf.keras.losses.BinaryCrossentropy(),\n",
        "              metrics = [tf.keras.metrics.BinaryCrossentropy()])\n",
        "\n",
        "history = model.fit(x_scaled, x_scaled, epochs = 10, batch_size = 50, validation_data = (tx_scaled, tx_scaled))"
      ],
      "metadata": {
        "colab": {
          "base_uri": "https://localhost:8080/"
        },
        "id": "xcWyf5aW1iAy",
        "outputId": "ab6e8b6c-3548-43b4-8f7e-b619573725ab"
      },
      "execution_count": 47,
      "outputs": [
        {
          "output_type": "stream",
          "name": "stdout",
          "text": [
            "Epoch 1/10\n"
          ]
        },
        {
          "output_type": "stream",
          "name": "stderr",
          "text": [
            "/usr/local/lib/python3.7/dist-packages/keras/optimizer_v2/rmsprop.py:130: UserWarning: The `lr` argument is deprecated, use `learning_rate` instead.\n",
            "  super(RMSprop, self).__init__(name, **kwargs)\n"
          ]
        },
        {
          "output_type": "stream",
          "name": "stdout",
          "text": [
            "30/30 [==============================] - 1s 19ms/step - loss: 0.7626 - binary_crossentropy: 0.7626 - val_loss: 0.5354 - val_binary_crossentropy: 0.5354\n",
            "Epoch 2/10\n",
            "30/30 [==============================] - 0s 3ms/step - loss: 0.4658 - binary_crossentropy: 0.4658 - val_loss: 0.5467 - val_binary_crossentropy: 0.5467\n",
            "Epoch 3/10\n",
            "30/30 [==============================] - 0s 3ms/step - loss: 0.4621 - binary_crossentropy: 0.4621 - val_loss: 0.4769 - val_binary_crossentropy: 0.4769\n",
            "Epoch 4/10\n",
            "30/30 [==============================] - 0s 3ms/step - loss: 0.4617 - binary_crossentropy: 0.4617 - val_loss: 0.5022 - val_binary_crossentropy: 0.5022\n",
            "Epoch 5/10\n",
            "30/30 [==============================] - 0s 4ms/step - loss: 0.4628 - binary_crossentropy: 0.4628 - val_loss: 0.4941 - val_binary_crossentropy: 0.4941\n",
            "Epoch 6/10\n",
            "30/30 [==============================] - 0s 3ms/step - loss: 0.4582 - binary_crossentropy: 0.4582 - val_loss: 0.5160 - val_binary_crossentropy: 0.5160\n",
            "Epoch 7/10\n",
            "30/30 [==============================] - 0s 3ms/step - loss: 0.4570 - binary_crossentropy: 0.4570 - val_loss: 0.5153 - val_binary_crossentropy: 0.5153\n",
            "Epoch 8/10\n",
            "30/30 [==============================] - 0s 3ms/step - loss: 0.4568 - binary_crossentropy: 0.4568 - val_loss: 0.4721 - val_binary_crossentropy: 0.4721\n",
            "Epoch 9/10\n",
            "30/30 [==============================] - 0s 4ms/step - loss: 0.4565 - binary_crossentropy: 0.4565 - val_loss: 0.4645 - val_binary_crossentropy: 0.4645\n",
            "Epoch 10/10\n",
            "30/30 [==============================] - 0s 4ms/step - loss: 0.4555 - binary_crossentropy: 0.4555 - val_loss: 0.4562 - val_binary_crossentropy: 0.4562\n"
          ]
        }
      ]
    },
    {
      "cell_type": "code",
      "source": [
        "plt.plot(history.history['loss'])\n",
        "plt.plot(history.history['val_loss'])\n",
        "plt.xlabel('Epochs')\n",
        "plt.ylabel('mean_squared_loss')\n",
        "plt.legend(['loss', 'val_loss'])\n",
        "plt.show()"
      ],
      "metadata": {
        "colab": {
          "base_uri": "https://localhost:8080/",
          "height": 279
        },
        "id": "jdy-rmT6-zFo",
        "outputId": "625d2774-b0a5-40ef-e45c-3a0b150004ad"
      },
      "execution_count": 48,
      "outputs": [
        {
          "output_type": "display_data",
          "data": {
            "text/plain": [
              "<Figure size 432x288 with 1 Axes>"
            ],
            "image/png": "[encoded data removed]"
          },
          "metadata": {
            "needs_background": "light"
          }
        }
      ]
    },
    {
      "cell_type": "code",
      "source": [
        ""
      ],
      "metadata": {
        "id": "mcH0XHgsCvG7"
      },
      "execution_count": null,
      "outputs": []
    }
  ]
}